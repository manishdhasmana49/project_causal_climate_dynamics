{
 "cells": [
  {
   "cell_type": "markdown",
   "id": "4fce75f4",
   "metadata": {},
   "source": [
    "## Application of causal discovery and causal inference methods to climate dynamics problem\n",
    "##### Here, this notebook shows and explains step by step a causal approach to analyse linkages among ENSO, circulation fields, and summer monsoon precipitation over the Himalayas."
   ]
  },
  {
   "cell_type": "code",
   "execution_count": null,
   "id": "19911a30-6843-4bbc-a638-b008116bb920",
   "metadata": {},
   "outputs": [],
   "source": [
    "from warnings import filterwarnings\n",
    "filterwarnings(\"ignore\")\n",
    "\n",
    "from src.DataProcessingClass import DataProcessingClass\n",
    "from src.CausalityClass import CausalityClass"
   ]
  },
  {
   "cell_type": "markdown",
   "id": "eb968b53",
   "metadata": {},
   "source": [
    "#### Preprocessing of climate indices (or time series data): \n",
    "#### ENSO - El Niño–Southern Oscillation\n",
    "#### WC - Walker cell\n",
    "#### MHC - Monsoon Hadley cell\n",
    "#### Himalayan precipitation"
   ]
  },
  {
   "cell_type": "code",
   "execution_count": null,
   "id": "1a76e4e5",
   "metadata": {},
   "outputs": [],
   "source": [
    "# Create a class instance for data preprocessing\n",
    "dpc = DataProcessingClass()\n",
    "\n",
    "# Load climate indices from netCDF files.\n",
    "D = dpc.load_netcdf_files()"
   ]
  },
  {
   "cell_type": "raw",
   "id": "ae358b04",
   "metadata": {},
   "source": [
    "D['wc'].wc.values = D['wc'].wc.values * -1.0"
   ]
  },
  {
   "cell_type": "markdown",
   "id": "05f02ac3",
   "metadata": {},
   "source": [
    "#### Plot the location of the WC/HP and MHC indices"
   ]
  },
  {
   "cell_type": "code",
   "execution_count": null,
   "id": "701d3614",
   "metadata": {},
   "outputs": [],
   "source": [
    "dpc.plot_orography_map()"
   ]
  },
  {
   "cell_type": "markdown",
   "id": "da1a852d",
   "metadata": {},
   "source": [
    "#### Transfrom precipitation data with logarithmic function"
   ]
  },
  {
   "cell_type": "code",
   "execution_count": null,
   "id": "00b08a62",
   "metadata": {},
   "outputs": [],
   "source": [
    "# Apply log transform\n",
    "ind_name='precip'\n",
    "if ind_name in list(D.keys()): dpc.transform_precip(D, ind_name=ind_name, apply_transform=True)"
   ]
  },
  {
   "cell_type": "markdown",
   "id": "9233a5a4",
   "metadata": {},
   "source": [
    "#### Apply ADF and KPSS statistical tests to indices to check for the stationarity "
   ]
  },
  {
   "cell_type": "code",
   "execution_count": null,
   "id": "06fe3ad9",
   "metadata": {},
   "outputs": [],
   "source": [
    "# Use the Augmented Dickey-Fuller unit root test and Kwiatkowski-Phillips-Schmidt-Shin test for stationarity\n",
    "dpc.adf_kpss_tests(D)"
   ]
  },
  {
   "cell_type": "markdown",
   "id": "d78a706b",
   "metadata": {},
   "source": [
    "#### 1) Based on the result of statitiscal test perform detrending of WC index\n",
    "#### 2) Remove climatological and seasonal cycles\n",
    "#### 3) Normalise indices to a common range\n",
    "#### 4) Select datapoint from climate indices from a specified timeframe of our interest"
   ]
  },
  {
   "cell_type": "code",
   "execution_count": null,
   "id": "69c58c4a",
   "metadata": {},
   "outputs": [],
   "source": [
    "# Select index\n",
    "ind_name = 'wc'\n",
    "\n",
    "if ind_name in list(D.keys()): dpc.detrend_index(D, ind_name)\n",
    "\n",
    "# Remove means\n",
    "dpc.remove_means(D)\n",
    "\n",
    "# Apply min max normalisation\n",
    "dpc.min_max_norm(D)\n",
    "\n",
    "# Select datapoint for May-September from each year for 1940-2022\n",
    "dpc.select_datapoints(D)\n"
   ]
  },
  {
   "cell_type": "markdown",
   "id": "bc9f6d4c",
   "metadata": {},
   "source": [
    "#### Calculate lagged cross-correlations for all pairs of climate indices"
   ]
  },
  {
   "cell_type": "code",
   "execution_count": null,
   "id": "604a0571",
   "metadata": {},
   "outputs": [],
   "source": [
    "# Choose max lag time\n",
    "n_lags = -2\n",
    "\n",
    "dpc.test_pairs_lag_corr(D, n_lags)"
   ]
  },
  {
   "cell_type": "markdown",
   "id": "bc375e02",
   "metadata": {},
   "source": [
    "#### Build a causal graph using PCMCI algorithm."
   ]
  },
  {
   "cell_type": "code",
   "execution_count": null,
   "id": "f0cc0b31",
   "metadata": {},
   "outputs": [],
   "source": [
    "# Create a class instance with climate indices\n",
    "ca = CausalityClass(D)\n",
    "\n",
    "# Construct a custom dataframe format used by Tigramite package\n",
    "dataframe, _ = ca.generate_dataframe(D) \n",
    "\n",
    "# Build the causal graph with PCMCI algorithm\n",
    "sig_causal_parents = ca.new_construct_causal_graph(dataframe)"
   ]
  },
  {
   "cell_type": "markdown",
   "id": "dfc04e8e",
   "metadata": {},
   "source": [
    "#### Use linear estimator to compute beta coefficients on the build causal graph"
   ]
  },
  {
   "cell_type": "code",
   "execution_count": null,
   "id": "17162f8c",
   "metadata": {},
   "outputs": [],
   "source": [
    "# Fit the linear estimator\n",
    "val_matrix = ca.new_linear_estimator(sig_causal_parents, dataframe)\n",
    "\n",
    "# Get the beta coefficients for the causal graph\n",
    "ca.get_links_beta_coeffs()"
   ]
  },
  {
   "cell_type": "code",
   "execution_count": null,
   "id": "7ade0512",
   "metadata": {},
   "outputs": [],
   "source": [
    "ca.linear_mediator.get_coefs()"
   ]
  },
  {
   "cell_type": "code",
   "execution_count": null,
   "id": "db7ecea9",
   "metadata": {},
   "outputs": [],
   "source": [
    "ca.linear_mediator.get_coeff(i=0, tau=1, j=0)"
   ]
  },
  {
   "cell_type": "code",
   "execution_count": null,
   "id": "6f183df1",
   "metadata": {},
   "outputs": [],
   "source": [
    "ca.linear_mediator.get_coeff(i=1, tau=1, j=1)"
   ]
  },
  {
   "cell_type": "raw",
   "id": "811f2255",
   "metadata": {},
   "source": [
    "ca.linear_mediator.get_coeff(i=2, tau=1, j=2)"
   ]
  },
  {
   "cell_type": "markdown",
   "id": "bb2b6c88",
   "metadata": {},
   "source": [
    "#### Plot the causal graph a causal effect network "
   ]
  },
  {
   "cell_type": "code",
   "execution_count": null,
   "id": "4499d3dd",
   "metadata": {},
   "outputs": [],
   "source": [
    "# Plot causal effect network and save it to a png format\n",
    "ca.new_plot_cens_graph(val_matrix, save=True)"
   ]
  },
  {
   "cell_type": "code",
   "execution_count": null,
   "id": "60bcc3ae",
   "metadata": {},
   "outputs": [],
   "source": [
    "val_matrix.diagonal(0)"
   ]
  },
  {
   "cell_type": "markdown",
   "id": "40a10947",
   "metadata": {},
   "source": [
    "#### Apply bootstrapping to estimate the statisical robustness of the causal links"
   ]
  },
  {
   "cell_type": "raw",
   "id": "2029e773-8ee8-4918-99e7-33a6b05065ff",
   "metadata": {
    "tags": []
   },
   "source": [
    "# Run bootstrap procedure, compute the aggregated causal metrics: average causal effect and average causal susceptiblity.\n",
    "# Save the results of the procedure to a npz file\n",
    "ca.bootrstapping()"
   ]
  },
  {
   "cell_type": "code",
   "execution_count": null,
   "id": "8f1904bb",
   "metadata": {},
   "outputs": [],
   "source": [
    "import numpy as np\n",
    "np.round(np.arange(-1.0, 1.1, 0.5),2)"
   ]
  }
 ],
 "metadata": {
  "kernelspec": {
   "display_name": "Python 3 (ipykernel)",
   "language": "python",
   "name": "python3"
  },
  "language_info": {
   "codemirror_mode": {
    "name": "ipython",
    "version": 3
   },
   "file_extension": ".py",
   "mimetype": "text/x-python",
   "name": "python",
   "nbconvert_exporter": "python",
   "pygments_lexer": "ipython3",
   "version": "3.10.14"
  }
 },
 "nbformat": 4,
 "nbformat_minor": 5
}
