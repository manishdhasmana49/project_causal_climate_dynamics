{
 "cells": [
  {
   "cell_type": "code",
   "execution_count": 1,
   "metadata": {},
   "outputs": [
    {
     "name": "stdout",
     "output_type": "stream",
     "text": [
      "Intel MKL WARNING: Support of Intel(R) Streaming SIMD Extensions 4.2 (Intel(R) SSE4.2) enabled only processors has been deprecated. Intel oneAPI Math Kernel Library 2025.0 will require Intel(R) Advanced Vector Extensions (Intel(R) AVX) instructions.\n",
      "Intel MKL WARNING: Support of Intel(R) Streaming SIMD Extensions 4.2 (Intel(R) SSE4.2) enabled only processors has been deprecated. Intel oneAPI Math Kernel Library 2025.0 will require Intel(R) Advanced Vector Extensions (Intel(R) AVX) instructions.\n",
      "\n",
      "## Significant links at alpha = 0.05:\n",
      "\n",
      "    Variable $X^0$ has 1 link(s):\n",
      "        ($X^0$ -1): pval = 0.00000 | qval = 0.00000 | val =  0.503\n",
      "\n",
      "    Variable $X^1$ has 1 link(s):\n",
      "        ($X^1$ -1): pval = 0.00000 | qval = 0.00000 | val =  0.507\n"
     ]
    },
    {
     "name": "stderr",
     "output_type": "stream",
     "text": [
      "/Users/muszynski/opt/anaconda3/envs/causal4220/lib/python3.9/site-packages/tigramite/pcmci.py:1468: UserWarning: return_significant_parents is DEPRECATED: use return_significant_links() instead and check updated key names.\n",
      "  warnings.warn(\"return_significant_parents is DEPRECATED: use \"\n",
      "/Users/muszynski/opt/anaconda3/envs/causal4220/lib/python3.9/site-packages/tigramite/plotting.py:1357: MatplotlibDeprecationWarning: \n",
      "The figbox attribute was deprecated in Matplotlib 3.4 and will be removed two minor releases later. Use get_position() instead.\n",
      "  ax.figbox.bounds[1] + 0.02,\n"
     ]
    },
    {
     "ename": "NotImplementedError",
     "evalue": "cannot remove artist",
     "output_type": "error",
     "traceback": [
      "\u001b[0;31m---------------------------------------------------------------------------\u001b[0m",
      "\u001b[0;31mNotImplementedError\u001b[0m                       Traceback (most recent call last)",
      "Cell \u001b[0;32mIn[1], line 44\u001b[0m\n\u001b[1;32m     42\u001b[0m fig \u001b[38;5;241m=\u001b[39m plt\u001b[38;5;241m.\u001b[39mfigure(figsize\u001b[38;5;241m=\u001b[39m(\u001b[38;5;241m8\u001b[39m, \u001b[38;5;241m6\u001b[39m), frameon\u001b[38;5;241m=\u001b[39m\u001b[38;5;28;01mFalse\u001b[39;00m)\n\u001b[1;32m     43\u001b[0m ax \u001b[38;5;241m=\u001b[39m fig\u001b[38;5;241m.\u001b[39madd_subplot(\u001b[38;5;241m111\u001b[39m, frame_on\u001b[38;5;241m=\u001b[39m\u001b[38;5;28;01mFalse\u001b[39;00m)\n\u001b[0;32m---> 44\u001b[0m \u001b[43mtp\u001b[49m\u001b[38;5;241;43m.\u001b[39;49m\u001b[43mplot_graph\u001b[49m\u001b[43m(\u001b[49m\u001b[43mval_matrix\u001b[49m\u001b[38;5;241;43m=\u001b[39;49m\u001b[43mval_matrix\u001b[49m\u001b[43m,\u001b[49m\u001b[43mlink_matrix\u001b[49m\u001b[38;5;241;43m=\u001b[39;49m\u001b[43mlink_matrix\u001b[49m\u001b[43m,\u001b[49m\u001b[43m \u001b[49m\u001b[43mvar_names\u001b[49m\u001b[38;5;241;43m=\u001b[39;49m\u001b[43mvar_names\u001b[49m\u001b[43m,\u001b[49m\u001b[43m \u001b[49m\u001b[43mfig_ax\u001b[49m\u001b[38;5;241;43m=\u001b[39;49m\u001b[43m(\u001b[49m\u001b[43mfig\u001b[49m\u001b[43m,\u001b[49m\u001b[43max\u001b[49m\u001b[43m)\u001b[49m\u001b[43m)\u001b[49m\n\u001b[1;32m     46\u001b[0m plt\u001b[38;5;241m.\u001b[39mshow()\n",
      "File \u001b[0;32m~/opt/anaconda3/envs/causal4220/lib/python3.9/site-packages/tigramite/plotting.py:1843\u001b[0m, in \u001b[0;36mplot_graph\u001b[0;34m(link_matrix, val_matrix, sig_thres, var_names, fig_ax, figsize, save_name, link_colorbar_label, node_colorbar_label, link_width, link_attribute, node_pos, arrow_linewidth, vmin_edges, vmax_edges, edge_ticks, cmap_edges, vmin_nodes, vmax_nodes, node_ticks, cmap_nodes, node_size, node_aspect, arrowhead_size, curved_radius, label_fontsize, alpha, node_label_size, link_label_fontsize, lag_array, network_lower_bound, show_colorbar, inner_edge_style)\u001b[0m\n\u001b[1;32m   1828\u001b[0m     node_color \u001b[38;5;241m=\u001b[39m \u001b[38;5;28;01mNone\u001b[39;00m\n\u001b[1;32m   1830\u001b[0m node_rings \u001b[38;5;241m=\u001b[39m {\n\u001b[1;32m   1831\u001b[0m     \u001b[38;5;241m0\u001b[39m: {\n\u001b[1;32m   1832\u001b[0m         \u001b[38;5;124m\"\u001b[39m\u001b[38;5;124msizes\u001b[39m\u001b[38;5;124m\"\u001b[39m: \u001b[38;5;28;01mNone\u001b[39;00m,\n\u001b[0;32m   (...)\u001b[0m\n\u001b[1;32m   1840\u001b[0m     }\n\u001b[1;32m   1841\u001b[0m }\n\u001b[0;32m-> 1843\u001b[0m \u001b[43m_draw_network_with_curved_edges\u001b[49m\u001b[43m(\u001b[49m\n\u001b[1;32m   1844\u001b[0m \u001b[43m    \u001b[49m\u001b[43mfig\u001b[49m\u001b[38;5;241;43m=\u001b[39;49m\u001b[43mfig\u001b[49m\u001b[43m,\u001b[49m\n\u001b[1;32m   1845\u001b[0m \u001b[43m    \u001b[49m\u001b[43max\u001b[49m\u001b[38;5;241;43m=\u001b[39;49m\u001b[43max\u001b[49m\u001b[43m,\u001b[49m\n\u001b[1;32m   1846\u001b[0m \u001b[43m    \u001b[49m\u001b[43mG\u001b[49m\u001b[38;5;241;43m=\u001b[39;49m\u001b[43mdeepcopy\u001b[49m\u001b[43m(\u001b[49m\u001b[43mG\u001b[49m\u001b[43m)\u001b[49m\u001b[43m,\u001b[49m\n\u001b[1;32m   1847\u001b[0m \u001b[43m    \u001b[49m\u001b[43mpos\u001b[49m\u001b[38;5;241;43m=\u001b[39;49m\u001b[43mpos\u001b[49m\u001b[43m,\u001b[49m\n\u001b[1;32m   1848\u001b[0m \u001b[43m    \u001b[49m\u001b[38;5;66;43;03m# dictionary of rings: {0:{'sizes':(N,)-array, 'color_array':(N,)-array\u001b[39;49;00m\n\u001b[1;32m   1849\u001b[0m \u001b[43m    \u001b[49m\u001b[38;5;66;43;03m# or None, 'cmap':string,\u001b[39;49;00m\n\u001b[1;32m   1850\u001b[0m \u001b[43m    \u001b[49m\u001b[43mnode_rings\u001b[49m\u001b[38;5;241;43m=\u001b[39;49m\u001b[43mnode_rings\u001b[49m\u001b[43m,\u001b[49m\n\u001b[1;32m   1851\u001b[0m \u001b[43m    \u001b[49m\u001b[38;5;66;43;03m# 'vmin':float or None, 'vmax':float or None, 'label':string or None}}\u001b[39;49;00m\n\u001b[1;32m   1852\u001b[0m \u001b[43m    \u001b[49m\u001b[43mnode_labels\u001b[49m\u001b[38;5;241;43m=\u001b[39;49m\u001b[43mvar_names\u001b[49m\u001b[43m,\u001b[49m\n\u001b[1;32m   1853\u001b[0m \u001b[43m    \u001b[49m\u001b[43mnode_label_size\u001b[49m\u001b[38;5;241;43m=\u001b[39;49m\u001b[43mnode_label_size\u001b[49m\u001b[43m,\u001b[49m\n\u001b[1;32m   1854\u001b[0m \u001b[43m    \u001b[49m\u001b[43mnode_alpha\u001b[49m\u001b[38;5;241;43m=\u001b[39;49m\u001b[43malpha\u001b[49m\u001b[43m,\u001b[49m\n\u001b[1;32m   1855\u001b[0m \u001b[43m    \u001b[49m\u001b[43mstandard_size\u001b[49m\u001b[38;5;241;43m=\u001b[39;49m\u001b[43mnode_size\u001b[49m\u001b[43m,\u001b[49m\n\u001b[1;32m   1856\u001b[0m \u001b[43m    \u001b[49m\u001b[43mnode_aspect\u001b[49m\u001b[38;5;241;43m=\u001b[39;49m\u001b[43mnode_aspect\u001b[49m\u001b[43m,\u001b[49m\n\u001b[1;32m   1857\u001b[0m \u001b[43m    \u001b[49m\u001b[43mstandard_cmap\u001b[49m\u001b[38;5;241;43m=\u001b[39;49m\u001b[38;5;124;43m\"\u001b[39;49m\u001b[38;5;124;43mOrRd\u001b[39;49m\u001b[38;5;124;43m\"\u001b[39;49m\u001b[43m,\u001b[49m\n\u001b[1;32m   1858\u001b[0m \u001b[43m    \u001b[49m\u001b[43mstandard_color\u001b[49m\u001b[38;5;241;43m=\u001b[39;49m\u001b[38;5;124;43m\"\u001b[39;49m\u001b[38;5;124;43morange\u001b[39;49m\u001b[38;5;124;43m\"\u001b[39;49m\u001b[43m,\u001b[49m\n\u001b[1;32m   1859\u001b[0m \u001b[43m    \u001b[49m\u001b[43mlog_sizes\u001b[49m\u001b[38;5;241;43m=\u001b[39;49m\u001b[38;5;28;43;01mFalse\u001b[39;49;00m\u001b[43m,\u001b[49m\n\u001b[1;32m   1860\u001b[0m \u001b[43m    \u001b[49m\u001b[43mcmap_links\u001b[49m\u001b[38;5;241;43m=\u001b[39;49m\u001b[43mcmap_edges\u001b[49m\u001b[43m,\u001b[49m\n\u001b[1;32m   1861\u001b[0m \u001b[43m    \u001b[49m\u001b[43mlinks_vmin\u001b[49m\u001b[38;5;241;43m=\u001b[39;49m\u001b[43mvmin_edges\u001b[49m\u001b[43m,\u001b[49m\n\u001b[1;32m   1862\u001b[0m \u001b[43m    \u001b[49m\u001b[43mlinks_vmax\u001b[49m\u001b[38;5;241;43m=\u001b[39;49m\u001b[43mvmax_edges\u001b[49m\u001b[43m,\u001b[49m\n\u001b[1;32m   1863\u001b[0m \u001b[43m    \u001b[49m\u001b[43mlinks_ticks\u001b[49m\u001b[38;5;241;43m=\u001b[39;49m\u001b[43medge_ticks\u001b[49m\u001b[43m,\u001b[49m\n\u001b[1;32m   1864\u001b[0m \u001b[43m    \u001b[49m\u001b[38;5;66;43;03m# cmap_links_edges='YlOrRd', links_edges_vmin=-1., links_edges_vmax=1.,\u001b[39;49;00m\n\u001b[1;32m   1865\u001b[0m \u001b[43m    \u001b[49m\u001b[38;5;66;43;03m# links_edges_ticks=.2, link_edge_colorbar_label='link_edge',\u001b[39;49;00m\n\u001b[1;32m   1866\u001b[0m \u001b[43m    \u001b[49m\u001b[43marrowstyle\u001b[49m\u001b[38;5;241;43m=\u001b[39;49m\u001b[38;5;124;43m\"\u001b[39;49m\u001b[38;5;124;43msimple\u001b[39;49m\u001b[38;5;124;43m\"\u001b[39;49m\u001b[43m,\u001b[49m\n\u001b[1;32m   1867\u001b[0m \u001b[43m    \u001b[49m\u001b[43marrowhead_size\u001b[49m\u001b[38;5;241;43m=\u001b[39;49m\u001b[43marrowhead_size\u001b[49m\u001b[43m,\u001b[49m\n\u001b[1;32m   1868\u001b[0m \u001b[43m    \u001b[49m\u001b[43mcurved_radius\u001b[49m\u001b[38;5;241;43m=\u001b[39;49m\u001b[43mcurved_radius\u001b[49m\u001b[43m,\u001b[49m\n\u001b[1;32m   1869\u001b[0m \u001b[43m    \u001b[49m\u001b[43mlabel_fontsize\u001b[49m\u001b[38;5;241;43m=\u001b[39;49m\u001b[43mlabel_fontsize\u001b[49m\u001b[43m,\u001b[49m\n\u001b[1;32m   1870\u001b[0m \u001b[43m    \u001b[49m\u001b[43mlink_label_fontsize\u001b[49m\u001b[38;5;241;43m=\u001b[39;49m\u001b[43mlink_label_fontsize\u001b[49m\u001b[43m,\u001b[49m\n\u001b[1;32m   1871\u001b[0m \u001b[43m    \u001b[49m\u001b[43mlink_colorbar_label\u001b[49m\u001b[38;5;241;43m=\u001b[39;49m\u001b[43mlink_colorbar_label\u001b[49m\u001b[43m,\u001b[49m\n\u001b[1;32m   1872\u001b[0m \u001b[43m    \u001b[49m\u001b[43mnetwork_lower_bound\u001b[49m\u001b[38;5;241;43m=\u001b[39;49m\u001b[43mnetwork_lower_bound\u001b[49m\u001b[43m,\u001b[49m\n\u001b[1;32m   1873\u001b[0m \u001b[43m    \u001b[49m\u001b[43mshow_colorbar\u001b[49m\u001b[38;5;241;43m=\u001b[39;49m\u001b[43mshow_colorbar\u001b[49m\u001b[43m,\u001b[49m\n\u001b[1;32m   1874\u001b[0m \u001b[43m    \u001b[49m\u001b[38;5;66;43;03m# label_fraction=label_fraction,\u001b[39;49;00m\n\u001b[1;32m   1875\u001b[0m \u001b[43m\u001b[49m\u001b[43m)\u001b[49m\n\u001b[1;32m   1877\u001b[0m \u001b[38;5;28;01mif\u001b[39;00m save_name \u001b[38;5;129;01mis\u001b[39;00m \u001b[38;5;129;01mnot\u001b[39;00m \u001b[38;5;28;01mNone\u001b[39;00m:\n\u001b[1;32m   1878\u001b[0m     pyplot\u001b[38;5;241m.\u001b[39msavefig(save_name, dpi\u001b[38;5;241m=\u001b[39m\u001b[38;5;241m300\u001b[39m)\n",
      "File \u001b[0;32m~/opt/anaconda3/envs/causal4220/lib/python3.9/site-packages/tigramite/plotting.py:1378\u001b[0m, in \u001b[0;36m_draw_network_with_curved_edges\u001b[0;34m(fig, ax, G, pos, node_rings, node_labels, node_label_size, node_alpha, standard_size, node_aspect, standard_cmap, standard_color, log_sizes, cmap_links, cmap_links_edges, links_vmin, links_vmax, links_edges_vmin, links_edges_vmax, links_ticks, links_edges_ticks, link_label_fontsize, arrowstyle, arrowhead_size, curved_radius, label_fontsize, label_fraction, link_colorbar_label, inner_edge_curved, inner_edge_style, network_lower_bound, show_colorbar)\u001b[0m\n\u001b[1;32m   1368\u001b[0m         cb_e\u001b[38;5;241m.\u001b[39mset_ticks(\n\u001b[1;32m   1369\u001b[0m             np\u001b[38;5;241m.\u001b[39marange(\n\u001b[1;32m   1370\u001b[0m                 _myround(links_vmin, links_ticks, \u001b[38;5;124m\"\u001b[39m\u001b[38;5;124mdown\u001b[39m\u001b[38;5;124m\"\u001b[39m),\n\u001b[0;32m   (...)\u001b[0m\n\u001b[1;32m   1373\u001b[0m             )\n\u001b[1;32m   1374\u001b[0m         )\n\u001b[1;32m   1375\u001b[0m         \u001b[38;5;66;03m# except:\u001b[39;00m\n\u001b[1;32m   1376\u001b[0m         \u001b[38;5;66;03m#     print('no ticks given')\u001b[39;00m\n\u001b[0;32m-> 1378\u001b[0m         \u001b[43mcb_e\u001b[49m\u001b[38;5;241;43m.\u001b[39;49m\u001b[43moutline\u001b[49m\u001b[38;5;241;43m.\u001b[39;49m\u001b[43mremove\u001b[49m\u001b[43m(\u001b[49m\u001b[43m)\u001b[49m\n\u001b[1;32m   1379\u001b[0m         cax_e\u001b[38;5;241m.\u001b[39mset_xlabel(\n\u001b[1;32m   1380\u001b[0m             link_colorbar_label, labelpad\u001b[38;5;241m=\u001b[39m\u001b[38;5;241m1\u001b[39m, fontsize\u001b[38;5;241m=\u001b[39mlabel_fontsize, zorder\u001b[38;5;241m=\u001b[39m\u001b[38;5;241m-\u001b[39m\u001b[38;5;241m10\u001b[39m\n\u001b[1;32m   1381\u001b[0m         )\n\u001b[1;32m   1383\u001b[0m \u001b[38;5;66;03m##\u001b[39;00m\n\u001b[1;32m   1384\u001b[0m \u001b[38;5;66;03m# Draw nodes\u001b[39;00m\n\u001b[1;32m   1385\u001b[0m \u001b[38;5;66;03m##\u001b[39;00m\n",
      "File \u001b[0;32m~/opt/anaconda3/envs/causal4220/lib/python3.9/site-packages/matplotlib/artist.py:181\u001b[0m, in \u001b[0;36mArtist.remove\u001b[0;34m(self)\u001b[0m\n\u001b[1;32m    178\u001b[0m             \u001b[38;5;28mself\u001b[39m\u001b[38;5;241m.\u001b[39mfigure \u001b[38;5;241m=\u001b[39m \u001b[38;5;28;01mTrue\u001b[39;00m\n\u001b[1;32m    180\u001b[0m \u001b[38;5;28;01melse\u001b[39;00m:\n\u001b[0;32m--> 181\u001b[0m     \u001b[38;5;28;01mraise\u001b[39;00m \u001b[38;5;167;01mNotImplementedError\u001b[39;00m(\u001b[38;5;124m'\u001b[39m\u001b[38;5;124mcannot remove artist\u001b[39m\u001b[38;5;124m'\u001b[39m)\n",
      "\u001b[0;31mNotImplementedError\u001b[0m: cannot remove artist"
     ]
    },
    {
     "data": {
      "image/png": "[encoded data removed]",
      "text/plain": [
       "<Figure size 800x600 with 2 Axes>"
      ]
     },
     "metadata": {},
     "output_type": "display_data"
    }
   ],
   "source": [
    "from tigramite import data_processing as pp\n",
    "from tigramite import plotting as tp\n",
    "from tigramite.pcmci import PCMCI\n",
    "from tigramite.independence_tests import ParCorr\n",
    "from tigramite.models import LinearMediation\n",
    "from matplotlib import pyplot as plt\n",
    "import numpy as np\n",
    "\n",
    "seed=1\n",
    "random_state = np.random.default_rng(seed=seed)\n",
    "data = random_state.standard_normal((500, 2))\n",
    "for t in range(1, 500):\n",
    "    data[t, 0] += 0.6*data[t-1, 0]\n",
    "    data[t, 1] += 0.6*data[t-1, 1] - 0.36*data[t-2, 0]\n",
    "            \n",
    "var_names = [r'$X^0$', r'$X^1$']\n",
    "dataframe = pp.DataFrame(data, var_names=var_names)\n",
    "\n",
    "parcorr = ParCorr(significance='analytic', mask_type=None)\n",
    "\n",
    "pcmci = PCMCI(dataframe=dataframe, cond_ind_test=parcorr, verbosity=0)\n",
    "\n",
    "pcmci.verbosity = 0\n",
    "        \n",
    "results = pcmci.run_pcmci(tau_min=1, tau_max=1, pc_alpha=None)\n",
    "\n",
    "q_matrix = pcmci.get_corrected_pvalues(p_matrix=results['p_matrix'], fdr_method='fdr_bh')\n",
    "\n",
    "pcmci.print_significant_links(p_matrix = results['p_matrix'], q_matrix = q_matrix, val_matrix = results['val_matrix'], alpha_level = 0.05)\n",
    "        \n",
    "sig_parents = pcmci.return_significant_parents(pq_matrix=q_matrix, val_matrix=results['val_matrix'], alpha_level=0.05)\n",
    "\n",
    "all_parents = sig_parents['parents']\n",
    "link_matrix = sig_parents['link_matrix']\n",
    "\n",
    "# Calculate beta coefficient\n",
    "linear_mediator = LinearMediation(dataframe=dataframe, mask_type = 'y', data_transform = None)\n",
    "linear_mediator.fit_model(all_parents = all_parents, tau_max=1)  \n",
    "\n",
    "val_matrix = linear_mediator.get_val_matrix()\n",
    "\n",
    "fig = plt.figure(figsize=(8, 6), frameon=False)\n",
    "ax = fig.add_subplot(111, frame_on=False)\n",
    "tp.plot_graph(val_matrix=val_matrix,link_matrix=link_matrix, var_names=var_names, fig_ax=(fig,ax))\n",
    "\n",
    "plt.show()\n"
   ]
  }
 ],
 "metadata": {
  "kernelspec": {
   "display_name": "causal4220",
   "language": "python",
   "name": "python3"
  },
  "language_info": {
   "codemirror_mode": {
    "name": "ipython",
    "version": 3
   },
   "file_extension": ".py",
   "mimetype": "text/x-python",
   "name": "python",
   "nbconvert_exporter": "python",
   "pygments_lexer": "ipython3",
   "version": "3.9.7"
  }
 },
 "nbformat": 4,
 "nbformat_minor": 2
}
